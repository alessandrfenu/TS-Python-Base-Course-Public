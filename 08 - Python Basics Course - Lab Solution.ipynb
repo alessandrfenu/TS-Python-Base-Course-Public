{
 "cells": [
  {
   "cell_type": "markdown",
   "id": "445bdaa5-4e50-44c9-84df-02f7633046d9",
   "metadata": {},
   "source": [
    "# **Python Basics Course: Lab Solution**"
   ]
  },
  {
   "cell_type": "markdown",
   "id": "1aae7568-dbb2-437b-8a70-054357593d57",
   "metadata": {},
   "source": [
    "### Demonstrating the Four Principles of Object-Oriented Programming Using Accounting"
   ]
  },
  {
   "cell_type": "markdown",
   "id": "b921c282-9978-433a-a4e5-fee3d37b4dd9",
   "metadata": {},
   "source": [
    "**Objective**\n",
    "\n",
    "This exercise aims to teach the principles of Polymorphism, Abstraction, Inheritance, and Encapsulation through an accounting use case. Students will create a Python program to represent different types of accounts and operations while adhering to OOP principles.\n",
    "\n",
    "**Problem Description**\n",
    "You are tasked with designing a system to manage bank accounts. There are several types of accounts, such as SavingsAccount and CheckingAccount, which share some common operations (like deposit and withdraw) but also have unique behaviors. You will implement this system using Object-Oriented Programming principles.\n",
    "\n",
    "**1. Step 1:** Define the Base Class (Abstraction)\n",
    "Create an abstract class BankAccount with:\n",
    "\n",
    "- Protected attributes _balance and _account_holder.\n",
    "- An abstract method withdraw to enforce implementation in subclasses.\n",
    "- A concrete method deposit to allow adding money to the account.\n",
    "\n",
    "**Step 2: Create Subclasses (Inheritance)**\n",
    "Define two subclasses:\n",
    "\n",
    "- SavingsAccount: Implements withdraw with the restriction that you cannot withdraw more than the balance.\n",
    "- CheckingAccount: Implements withdraw but allows overdrafts up to $500.\n",
    "\n",
    "**Step 3: Implement Data Protection (Encapsulation)**\n",
    "Ensure that:\n",
    "\n",
    "- The _balance attribute is protected.\n",
    "- Provide a method get_balance to view the current balance.\n",
    "\n",
    "**Step 4: Demonstrate Polymorphism**\n",
    "Write a function process_account(account, amount) that:\n",
    "\n",
    "- Accepts any account type (Savings or Checking).\n",
    "- Calls the withdraw method to handle withdrawals, demonstrating polymorphism.\n"
   ]
  },
  {
   "cell_type": "code",
   "execution_count": 1,
   "id": "1d184adf-d666-4d86-8f40-092ea66a5e2b",
   "metadata": {},
   "outputs": [
    {
     "name": "stdout",
     "output_type": "stream",
     "text": [
      "$200 deposited. New balance: $1200\n",
      "$300 deposited. New balance: $800\n",
      "Savings balance: $1200\n",
      "Checking balance: $800\n",
      "Processing withdrawal of $500 for Alice\n",
      "$500 withdrawn. New balance: $700\n",
      "Processing withdrawal of $800 for Bob\n",
      "$800 withdrawn. New balance: $0\n",
      "Processing withdrawal of $800 for Alice\n",
      "Insufficient funds in Savings Account.\n",
      "Processing withdrawal of $1200 for Bob\n",
      "Overdraft limit exceeded in Checking Account.\n"
     ]
    }
   ],
   "source": [
    "# Solution\n",
    "\n",
    "from abc import ABC, abstractmethod\n",
    "\n",
    "# Step 1: Define the Base Class (Abstraction)\n",
    "class BankAccount(ABC):\n",
    "    def __init__(self, account_holder, initial_balance=0):\n",
    "        self._account_holder = account_holder\n",
    "        self._balance = initial_balance\n",
    "\n",
    "    @abstractmethod\n",
    "    def withdraw(self, amount):\n",
    "        pass\n",
    "\n",
    "    def deposit(self, amount):\n",
    "        if amount > 0:\n",
    "            self._balance += amount\n",
    "            print(f\"${amount} deposited. New balance: ${self._balance}\")\n",
    "        else:\n",
    "            print(\"Deposit amount must be positive.\")\n",
    "\n",
    "    def get_balance(self):\n",
    "        return self._balance\n",
    "\n",
    "# Step 2: Create Subclasses (Inheritance)\n",
    "class SavingsAccount(BankAccount):\n",
    "    def withdraw(self, amount):\n",
    "        if amount <= self._balance:\n",
    "            self._balance -= amount\n",
    "            print(f\"${amount} withdrawn. New balance: ${self._balance}\")\n",
    "        else:\n",
    "            print(\"Insufficient funds in Savings Account.\")\n",
    "\n",
    "class CheckingAccount(BankAccount):\n",
    "    def withdraw(self, amount):\n",
    "        if amount <= self._balance + 500:  # Allows overdraft up to $500\n",
    "            self._balance -= amount\n",
    "            print(f\"${amount} withdrawn. New balance: ${self._balance}\")\n",
    "        else:\n",
    "            print(\"Overdraft limit exceeded in Checking Account.\")\n",
    "\n",
    "# Step 4: Demonstrate Polymorphism\n",
    "def process_account(account, amount):\n",
    "    print(f\"Processing withdrawal of ${amount} for {account._account_holder}\")\n",
    "    account.withdraw(amount)\n",
    "\n",
    "# Example Usage\n",
    "# Create accounts\n",
    "savings = SavingsAccount(\"Alice\", 1000)\n",
    "checking = CheckingAccount(\"Bob\", 500)\n",
    "\n",
    "# Deposit money\n",
    "savings.deposit(200)\n",
    "checking.deposit(300)\n",
    "\n",
    "# Access balance using encapsulated method\n",
    "print(f\"Savings balance: ${savings.get_balance()}\")\n",
    "print(f\"Checking balance: ${checking.get_balance()}\")\n",
    "\n",
    "# Withdraw money\n",
    "process_account(savings, 500)  # SavingsAccount behavior\n",
    "process_account(checking, 800)  # CheckingAccount behavior (overdraft allowed)\n",
    "\n",
    "# Demonstrate exceeding limits\n",
    "process_account(savings, 800)  # Should fail (insufficient funds)\n",
    "process_account(checking, 1200)  # Should fail (overdraft limit exceeded)\n"
   ]
  },
  {
   "cell_type": "code",
   "execution_count": null,
   "id": "4c7f3ec7-5d25-48eb-a715-5f435a9c838f",
   "metadata": {},
   "outputs": [],
   "source": []
  }
 ],
 "metadata": {
  "kernelspec": {
   "display_name": "Python 3 (ipykernel)",
   "language": "python",
   "name": "python3"
  },
  "language_info": {
   "codemirror_mode": {
    "name": "ipython",
    "version": 3
   },
   "file_extension": ".py",
   "mimetype": "text/x-python",
   "name": "python",
   "nbconvert_exporter": "python",
   "pygments_lexer": "ipython3",
   "version": "3.11.7"
  }
 },
 "nbformat": 4,
 "nbformat_minor": 5
}
